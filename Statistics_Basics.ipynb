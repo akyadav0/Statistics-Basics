{
  "nbformat": 4,
  "nbformat_minor": 0,
  "metadata": {
    "colab": {
      "provenance": []
    },
    "kernelspec": {
      "name": "python3",
      "display_name": "Python 3"
    },
    "language_info": {
      "name": "python"
    }
  },
  "cells": [
    {
      "cell_type": "markdown",
      "source": [
        "# Statistics Basics"
      ],
      "metadata": {
        "id": "Q_hr_fDJBfZi"
      }
    },
    {
      "cell_type": "markdown",
      "source": [
        "1. What is statistics, and why is it important?\n",
        "Statistics is the science of collecting, analyzing, interpreting, presenting, and organizing data.\n",
        "\n",
        "- Importance: Helps in making informed decisions, identifying trends, and solving real-world problems in various fields like business, healthcare, government, and research."
      ],
      "metadata": {
        "id": "6YfeWPpeBjZq"
      }
    },
    {
      "cell_type": "markdown",
      "source": [
        "2. What are the two main types of statistics?\n",
        "Descriptive statistics: Summarizes and describes data.\n",
        "\n",
        "- Inferential statistics: Makes predictions or inferences about a population based on a sample.\n",
        "\n"
      ],
      "metadata": {
        "id": "F_-KSYqnB3X9"
      }
    },
    {
      "cell_type": "markdown",
      "source": [
        "3. What are descriptive statistics?\n",
        "- These describe or summarize features of a dataset using measures like mean, median, mode, range, and standard deviation."
      ],
      "metadata": {
        "id": "wNylE6PcB9xg"
      }
    },
    {
      "cell_type": "markdown",
      "source": [
        "4. What is inferential statistics?\n",
        "- It draws conclusions or makes predictions about a population based on sample data, often using hypothesis testing, confidence intervals, and regression analysis."
      ],
      "metadata": {
        "id": "JxNX_IbJCB_i"
      }
    },
    {
      "cell_type": "markdown",
      "source": [
        "5. What is sampling in statistics?\n",
        "- It's the process of selecting a subset (sample) from a larger group (population) to analyze and draw conclusions."
      ],
      "metadata": {
        "id": "25H7uTyQCIFq"
      }
    },
    {
      "cell_type": "markdown",
      "source": [
        "6. What are the different types of sampling methods?\n",
        "Random Sampling\n",
        "\n",
        "- Systematic Sampling\n",
        "\n",
        "- Stratified Sampling\n",
        "\n",
        "- Cluster Sampling\n",
        "\n",
        "- Convenience Sampling"
      ],
      "metadata": {
        "id": "avHsIRfNCJv5"
      }
    },
    {
      "cell_type": "markdown",
      "source": [
        "7. What is the difference between random and non-random sampling?\n",
        "- Random sampling: Each individual has an equal chance of being selected.\n",
        "\n",
        "- Non-random sampling: Selection is based on convenience or judgment, not chance."
      ],
      "metadata": {
        "id": "W8RxjiuaCS2h"
      }
    },
    {
      "cell_type": "markdown",
      "source": [
        "8. Define and give examples of qualitative and quantitative data.\n",
        "- Qualitative: Non-numeric (e.g., colors, names).\n",
        "\n",
        "- Quantitative: Numeric (e.g., height, weight, age)."
      ],
      "metadata": {
        "id": "3kmdkRbLCagy"
      }
    },
    {
      "cell_type": "markdown",
      "source": [
        "9. What are the different types of data in statistics?\n",
        "- Nominal\n",
        "\n",
        "- Ordinal\n",
        "\n",
        "- Interval\n",
        "\n",
        "- Ratio\n",
        "\n"
      ],
      "metadata": {
        "id": "oGtxBscTCk1f"
      }
    },
    {
      "cell_type": "markdown",
      "source": [
        "10. Explain nominal, ordinal, interval, and ratio levels of measurement.\n",
        "- Nominal: Categories without order (e.g., gender).\n",
        "\n",
        "- Ordinal: Categories with order (e.g., rankings).\n",
        "\n",
        "- Interval: Numeric with equal intervals, no true zero (e.g., temperature).\n",
        "\n",
        "- Ratio: Numeric with true zero (e.g., height, weight)."
      ],
      "metadata": {
        "id": "c_nKRQkhCtRF"
      }
    },
    {
      "cell_type": "markdown",
      "source": [
        "11. What is the measure of central tendency?\n",
        "- It's a single value that represents the center of a data set, typically mean, median, or mode.\n",
        "\n"
      ],
      "metadata": {
        "id": "xEEt867VCzXZ"
      }
    },
    {
      "cell_type": "markdown",
      "source": [
        "12. Define mean, median, and mode.\n",
        "- Mean: Average of data.\n",
        "\n",
        "- Median: Middle value when data is ordered.\n",
        "\n",
        "- Mode: Most frequent value."
      ],
      "metadata": {
        "id": "GHwp0wU7C5ES"
      }
    },
    {
      "cell_type": "markdown",
      "source": [
        "13. What is the significance of the measure of central tendency?\n",
        "- It helps summarize a dataset with a single representative value for easy comparison and understanding."
      ],
      "metadata": {
        "id": "qPn-bq7cC-Zc"
      }
    },
    {
      "cell_type": "markdown",
      "source": [
        "14. What is variance, and how is it calculated?\n",
        "- Variance: Measures how spread out the data is.\n",
        "\n",
        "- Formula: Average of squared differences from the mean.\n",
        "\n"
      ],
      "metadata": {
        "id": "ZY1g_g0BDB6a"
      }
    },
    {
      "cell_type": "markdown",
      "source": [
        "15. What is standard deviation, and why is it important?\n",
        "- It's the square root of variance.\n",
        "\n",
        "- Shows how much data varies from the mean; important in assessing risk and consistency."
      ],
      "metadata": {
        "id": "q4mf5zHCDGTa"
      }
    },
    {
      "cell_type": "markdown",
      "source": [
        "16. Define and explain the term range in statistics.\n",
        "- Range = Maximum value – Minimum value.\n",
        "\n",
        "- Shows the spread or dispersion in a dataset."
      ],
      "metadata": {
        "id": "K0u0WNgVDKNo"
      }
    },
    {
      "cell_type": "markdown",
      "source": [
        "17. What is the difference between variance and standard deviation?\n",
        "- Both measure data spread.\n",
        "\n",
        "- Standard deviation is the square root of variance and in the same units as the data."
      ],
      "metadata": {
        "id": "PvYAtRqUDN_T"
      }
    },
    {
      "cell_type": "markdown",
      "source": [
        "18. What is skewness in a dataset?\n",
        "- Skewness indicates the asymmetry of the data distribution.\n",
        "\n",
        "- Positive skew: Tail on the right.\n",
        "\n",
        "- Negative skew: Tail on the left.\n",
        "\n"
      ],
      "metadata": {
        "id": "TbxkdVVDDn7O"
      }
    },
    {
      "cell_type": "markdown",
      "source": [
        "19. What does it mean if a dataset is positively or negatively skewed?\n",
        "- Positively skewed: Most data is on the left; a few large values pull the mean right.\n",
        "\n",
        "- Negatively skewed: Most data is on the right; a few small values pull the mean left."
      ],
      "metadata": {
        "id": "ld99q3vyDwWM"
      }
    },
    {
      "cell_type": "markdown",
      "source": [
        "20. Define and explain kurtosis.\n",
        "- Measures the \"tailedness\" of the distribution.\n",
        "\n",
        "- High kurtosis: More outliers.\n",
        "\n",
        "- Low kurtosis: Fewer outliers, flatter distribution."
      ],
      "metadata": {
        "id": "4yz1sGMQD0Vr"
      }
    },
    {
      "cell_type": "markdown",
      "source": [
        "21. What is the purpose of covariance?\n",
        "- Shows whether two variables change together.\n",
        "\n",
        "- Positive: Both increase/decrease together.\n",
        "\n",
        "- Negative: One increases, the other decreases."
      ],
      "metadata": {
        "id": "sb8hvU6cD60w"
      }
    },
    {
      "cell_type": "markdown",
      "source": [
        "22. What does correlation measure in statistics?\n",
        "- Measures the strength and direction of a linear relationship between two variables.\n",
        "\n",
        "- Values range from -1 to +1."
      ],
      "metadata": {
        "id": "OWWffGjfD_KX"
      }
    },
    {
      "cell_type": "markdown",
      "source": [
        "23. What is the difference between covariance and correlation?\n",
        "- Covariance: Measures directional relationship, not standardized.\n",
        "\n",
        "- Correlation: Standardized version of covariance; easier to interpret."
      ],
      "metadata": {
        "id": "DQ10Qt5dEFZ1"
      }
    },
    {
      "cell_type": "markdown",
      "source": [
        "24. What are some real-world applications of statistics?\n",
        "- Business: Market analysis, forecasting.\n",
        "\n",
        "- Healthcare: Drug trials, epidemiology.\n",
        "\n",
        "- Government: Census, policy planning.\n",
        "\n",
        "- Education: Student performance analysis."
      ],
      "metadata": {
        "id": "-5EBGbP0ELcR"
      }
    },
    {
      "cell_type": "markdown",
      "source": [
        "# Practical"
      ],
      "metadata": {
        "id": "omydyyZLESAp"
      }
    },
    {
      "cell_type": "code",
      "source": [
        "#1. How do you calculate the mean, median, and mode of a dataset?\n",
        "\n",
        "import numpy as np\n",
        "from statistics import mode\n",
        "\n",
        "data = [2, 4, 4, 6, 8, 10]\n",
        "\n",
        "mean = np.mean(data)\n",
        "median = np.median(data)\n",
        "mode_val = mode(data)\n",
        "\n",
        "print(\"Mean:\", mean)\n",
        "print(\"Median:\", median)\n",
        "print(\"Mode:\", mode_val)"
      ],
      "metadata": {
        "colab": {
          "base_uri": "https://localhost:8080/"
        },
        "id": "GEEgJ2ZKEWpQ",
        "outputId": "d10231dc-a8b8-4472-d502-3aefa6293bb3"
      },
      "execution_count": 1,
      "outputs": [
        {
          "output_type": "stream",
          "name": "stdout",
          "text": [
            "Mean: 5.666666666666667\n",
            "Median: 5.0\n",
            "Mode: 4\n"
          ]
        }
      ]
    },
    {
      "cell_type": "code",
      "source": [
        "#2. Write a Python program to compute variance and standard deviation.\n",
        "import numpy as np\n",
        "\n",
        "data = [5, 10, 15, 20, 25]\n",
        "variance = np.var(data)\n",
        "std_dev = np.std(data)\n",
        "\n",
        "print(\"Variance:\", variance)\n",
        "print(\"Standard Deviation:\", std_dev)\n",
        "\n"
      ],
      "metadata": {
        "colab": {
          "base_uri": "https://localhost:8080/"
        },
        "id": "yaedRpnPFbUY",
        "outputId": "d219eb67-6763-4bff-ebc8-98dcddb6e56d"
      },
      "execution_count": 2,
      "outputs": [
        {
          "output_type": "stream",
          "name": "stdout",
          "text": [
            "Variance: 50.0\n",
            "Standard Deviation: 7.0710678118654755\n"
          ]
        }
      ]
    },
    {
      "cell_type": "code",
      "source": [
        "# 3. Create a dataset and classify it into nominal, ordinal, interval, and ratio type.\n",
        "data = {\n",
        "    \"Gender\": [\"Male\", \"Female\"],  # Nominal\n",
        "    \"Rating\": [1, 2, 3, 4, 5],     # Ordinal\n",
        "    \"Temperature\": [30, 35, 40],   # Interval\n",
        "    \"Height\": [160, 170, 180]      # Ratio\n",
        "}\n",
        "\n"
      ],
      "metadata": {
        "id": "1iT85Z1BFwEb"
      },
      "execution_count": 4,
      "outputs": []
    },
    {
      "cell_type": "code",
      "source": [
        "#5 Write a Python function to calculate the range of a dataset.\n",
        "def calculate_range(data):\n",
        "    return max(data) - min(data)\n",
        "\n",
        "data = [5, 10, 15, 20, 25]\n",
        "range_val = calculate_range(data)\n",
        "print(\"Range:\", range_val)"
      ],
      "metadata": {
        "colab": {
          "base_uri": "https://localhost:8080/"
        },
        "id": "-AdnPV5TGNO3",
        "outputId": "4c5d6a94-1a57-468f-e618-d278be2a1bb6"
      },
      "execution_count": 5,
      "outputs": [
        {
          "output_type": "stream",
          "name": "stdout",
          "text": [
            "Range: 20\n"
          ]
        }
      ]
    },
    {
      "cell_type": "code",
      "source": [
        "#6 Create a dataset and plot its histogram to visualize skewness.\n",
        "import numpy as np\n",
        "import matplotlib.pyplot as plt\n",
        "\n",
        "data = np.random.normal(0, 1, 1000)  # Normally distributed data\n",
        "plt.hist(data, bins=30, edgecolor='black')"
      ],
      "metadata": {
        "colab": {
          "base_uri": "https://localhost:8080/",
          "height": 626
        },
        "id": "fsU5FyL8GNMf",
        "outputId": "64e0106a-eb78-47b6-bcf0-6e0f5584a1b3"
      },
      "execution_count": 6,
      "outputs": [
        {
          "output_type": "execute_result",
          "data": {
            "text/plain": [
              "(array([  2.,   1.,   1.,   4.,   2.,   9.,  13.,  26.,  21.,  40.,  41.,\n",
              "         49.,  58.,  71.,  94., 104.,  82.,  70.,  57.,  71.,  53.,  32.,\n",
              "         32.,  23.,  16.,  11.,   7.,   7.,   2.,   1.]),\n",
              " array([-3.2540594 , -3.04795154, -2.84184369, -2.63573583, -2.42962798,\n",
              "        -2.22352013, -2.01741227, -1.81130442, -1.60519657, -1.39908871,\n",
              "        -1.19298086, -0.98687301, -0.78076515, -0.5746573 , -0.36854945,\n",
              "        -0.16244159,  0.04366626,  0.24977412,  0.45588197,  0.66198982,\n",
              "         0.86809768,  1.07420553,  1.28031338,  1.48642124,  1.69252909,\n",
              "         1.89863694,  2.1047448 ,  2.31085265,  2.5169605 ,  2.72306836,\n",
              "         2.92917621]),\n",
              " <BarContainer object of 30 artists>)"
            ]
          },
          "metadata": {},
          "execution_count": 6
        },
        {
          "output_type": "display_data",
          "data": {
            "text/plain": [
              "<Figure size 640x480 with 1 Axes>"
            ],
            "image/png": "[encoded data removed]"
          },
          "metadata": {}
        }
      ]
    },
    {
      "cell_type": "code",
      "source": [
        "#7 Calculate skewness and kurtosis of a dataset using Python libraries.\n",
        "import numpy as np\n",
        "from scipy.stats import skew, kurtosis\n",
        "\n",
        "data = np.random.normal(0, 1, 1000)\n",
        "skewness = skew(data)\n"
      ],
      "metadata": {
        "id": "vFoj-xC6GNJ6"
      },
      "execution_count": 8,
      "outputs": []
    },
    {
      "cell_type": "code",
      "source": [
        "#8 Generate a dataset and demonstrate positive and negative skewness.\n",
        "import numpy as np\n",
        "import matplotlib.pyplot as plt\n",
        "\n",
        "# Positive skewness\n",
        "positive_skewed_data = np.random.exponential(scale=1, size=1000)\n"
      ],
      "metadata": {
        "id": "0tw8XWMyGNHi"
      },
      "execution_count": 9,
      "outputs": []
    },
    {
      "cell_type": "code",
      "source": [
        "#9 Write a Python script to calculate covariance between two datasets.\n",
        "import numpy as np\n",
        "\n",
        "x = [2, 4, 6, 8]\n",
        "y = [1, 3, 2, 5]\n",
        "\n",
        "cov_matrix = np.cov(x, y)\n",
        "print(\"Covariance matrix:\\n\", cov_matrix)\n"
      ],
      "metadata": {
        "colab": {
          "base_uri": "https://localhost:8080/"
        },
        "id": "oMjbMToaGNEp",
        "outputId": "1f116aba-d222-47b3-a157-a34de34b9d6a"
      },
      "execution_count": 12,
      "outputs": [
        {
          "output_type": "stream",
          "name": "stdout",
          "text": [
            "Covariance matrix:\n",
            " [[6.66666667 3.66666667]\n",
            " [3.66666667 2.91666667]]\n"
          ]
        }
      ]
    },
    {
      "cell_type": "code",
      "source": [
        "#10 Write a Python script to calculate the correlation coefficient between two datasets\n",
        "import numpy as np\n",
        "\n",
        "x = [2, 4, 6, 8]\n",
        "y = [1, 3, 2, 5]\n",
        "\n",
        "corr_coef = np.corrcoef(x, y)[0, 1]\n",
        "print(\"Correlation coefficient:\", corr_coef)"
      ],
      "metadata": {
        "colab": {
          "base_uri": "https://localhost:8080/"
        },
        "id": "4FLCw009GM_d",
        "outputId": "1b927d62-e8b3-4811-e7cd-b77fec38d990"
      },
      "execution_count": 13,
      "outputs": [
        {
          "output_type": "stream",
          "name": "stdout",
          "text": [
            "Correlation coefficient: 0.8315218406202999\n"
          ]
        }
      ]
    },
    {
      "cell_type": "code",
      "source": [
        "#11 Create a scatter plot to visualize the relationship between two variables.\n",
        "import matplotlib.pyplot as plt\n",
        "import matplotlib.pyplot as plt\n",
        "\n",
        "plt.scatter(x, y)\n",
        "plt.title(\"Scatter Plot\")\n",
        "plt.xlabel(\"X values\")\n",
        "plt.ylabel(\"Y values\")\n",
        "plt.show()\n"
      ],
      "metadata": {
        "colab": {
          "base_uri": "https://localhost:8080/",
          "height": 472
        },
        "id": "BLcSgvMcGM8q",
        "outputId": "99b0cb3f-8ed7-4558-b493-ff640edd0ee4"
      },
      "execution_count": 15,
      "outputs": [
        {
          "output_type": "display_data",
          "data": {
            "text/plain": [
              "<Figure size 640x480 with 1 Axes>"
            ],
            "image/png": "[encoded data removed]"
          },
          "metadata": {}
        }
      ]
    },
    {
      "cell_type": "code",
      "source": [
        "#12 Implement and compare simple random sampling and systematic sampling.\n",
        "import numpy as np\n",
        "\n",
        "data = np.arange(1, 21)\n",
        "\n",
        "# Simple random sampling\n",
        "random_sample = np.random.choice(data, size=5, replace=False)\n",
        "\n",
        "# Systematic sampling\n",
        "k = 4  # Interval\n",
        "systematic_sample = data[::k]\n",
        "\n",
        "print(\"Random Sample:\", random_sample)\n",
        "print(\"Systematic Sample:\", systematic_sample)\n"
      ],
      "metadata": {
        "colab": {
          "base_uri": "https://localhost:8080/"
        },
        "id": "-7HRa8knGM5w",
        "outputId": "ec22d89c-46f8-4aa9-c40c-9cb862bfb1f5"
      },
      "execution_count": 18,
      "outputs": [
        {
          "output_type": "stream",
          "name": "stdout",
          "text": [
            "Random Sample: [ 9 10  1  2  8]\n",
            "Systematic Sample: [ 1  5  9 13 17]\n"
          ]
        }
      ]
    },
    {
      "cell_type": "code",
      "source": [
        "#13  Calculate the mean, median, and mode of grouped data.\n",
        "import numpy as np\n",
        "from scipy.stats import mode\n"
      ],
      "metadata": {
        "id": "86OiX58WGM2s"
      },
      "execution_count": 19,
      "outputs": []
    },
    {
      "cell_type": "code",
      "source": [
        "#14 Simulate data using Python and calculate its central tendency and dispersion.\n",
        "data = np.random.normal(loc=50, scale=10, size=1000)\n",
        "\n",
        "print(\"Mean:\", np.mean(data))\n",
        "print(\"Median:\", np.median(data))\n",
        "print(\"Standard Deviation:\", np.std(data))\n",
        "print(\"Variance:\", np.var(data))\n"
      ],
      "metadata": {
        "colab": {
          "base_uri": "https://localhost:8080/"
        },
        "id": "x18uuAQ8GMtw",
        "outputId": "13dbf809-b2ff-4020-8343-af63b7446698"
      },
      "execution_count": 21,
      "outputs": [
        {
          "output_type": "stream",
          "name": "stdout",
          "text": [
            "Mean: 49.97880430663996\n",
            "Median: 49.80754748228979\n",
            "Standard Deviation: 10.09777101898259\n",
            "Variance: 101.96497955180469\n"
          ]
        }
      ]
    },
    {
      "cell_type": "code",
      "source": [
        "#15 Use NumPy or pandas to summarize a dataset’s descriptive statistics.\n",
        "import pandas as pd\n",
        "\n",
        "df = pd.DataFrame({'Marks': [60, 70, 85, 90, 95]})\n",
        "print(df.describe())\n"
      ],
      "metadata": {
        "colab": {
          "base_uri": "https://localhost:8080/"
        },
        "id": "RhGTHgMnGMcK",
        "outputId": "4ea277d1-7c8d-419b-c8d2-b7c86d79925a"
      },
      "execution_count": 22,
      "outputs": [
        {
          "output_type": "stream",
          "name": "stdout",
          "text": [
            "          Marks\n",
            "count   5.00000\n",
            "mean   80.00000\n",
            "std    14.57738\n",
            "min    60.00000\n",
            "25%    70.00000\n",
            "50%    85.00000\n",
            "75%    90.00000\n",
            "max    95.00000\n"
          ]
        }
      ]
    },
    {
      "cell_type": "code",
      "source": [
        "#16 Plot a boxplot to understand the spread and identify outliers.\n",
        "import matplotlib.pyplot as plt\n",
        "\n",
        "plt.boxplot(df['Marks'])\n",
        "plt.title(\"Boxplot of Marks\")\n",
        "plt.ylabel(\"Marks\")\n",
        "plt.show()"
      ],
      "metadata": {
        "colab": {
          "base_uri": "https://localhost:8080/",
          "height": 452
        },
        "id": "Jo_UQr84JnA7",
        "outputId": "ab5022bd-b51b-443f-d735-985555657238"
      },
      "execution_count": 23,
      "outputs": [
        {
          "output_type": "display_data",
          "data": {
            "text/plain": [
              "<Figure size 640x480 with 1 Axes>"
            ],
            "image/png": "[encoded data removed]"
          },
          "metadata": {}
        }
      ]
    },
    {
      "cell_type": "code",
      "source": [
        "#17 Calculate the interquartile range (IQR) of a dataset.\n",
        "import numpy as np\n",
        "\n",
        "data = [1, 3, 5, 7, 9, 11, 13, 15]\n",
        "q1 = np.percentile(data, 25)\n",
        "q3 = np.percentile(data, 75)\n",
        "iqr = q3 - q1\n",
        "print(\"IQR:\", iqr)\n"
      ],
      "metadata": {
        "colab": {
          "base_uri": "https://localhost:8080/"
        },
        "id": "u60eLVUaJm-f",
        "outputId": "aa4c79fa-7716-4278-b32c-14b85534ed7a"
      },
      "execution_count": 27,
      "outputs": [
        {
          "output_type": "stream",
          "name": "stdout",
          "text": [
            "IQR: 7.0\n"
          ]
        }
      ]
    },
    {
      "cell_type": "code",
      "source": [
        "#18  Implement Z-score normalization and explain its significance.\n",
        "from scipy.stats import zscore\n",
        "\n",
        "data = [10, 20, 30, 40, 50]\n",
        "z_scores = zscore(data)\n",
        "print(\"Z-scores:\", z_scores)\n"
      ],
      "metadata": {
        "colab": {
          "base_uri": "https://localhost:8080/"
        },
        "id": "RXmmVhU0JmT4",
        "outputId": "e4570783-8f11-40d8-dc3a-132cb3b91062"
      },
      "execution_count": 26,
      "outputs": [
        {
          "output_type": "stream",
          "name": "stdout",
          "text": [
            "Z-scores: [-1.41421356 -0.70710678  0.          0.70710678  1.41421356]\n"
          ]
        }
      ]
    },
    {
      "cell_type": "code",
      "source": [
        "#19 Compare two datasets using their standard deviations.\n",
        "data1 = [10, 20, 30]\n",
        "data2 = [10, 100, 200]\n",
        "\n",
        "print(\"Std Dev of Data1:\", np.std(data1))\n",
        "print(\"Std Dev of Data2:\", np.std(data2))\n"
      ],
      "metadata": {
        "colab": {
          "base_uri": "https://localhost:8080/"
        },
        "id": "XVfoYkK3JmQ5",
        "outputId": "0c0b13ce-3455-40ac-9801-58aaba8d5a12"
      },
      "execution_count": 28,
      "outputs": [
        {
          "output_type": "stream",
          "name": "stdout",
          "text": [
            "Std Dev of Data1: 8.16496580927726\n",
            "Std Dev of Data2: 77.60297817881877\n"
          ]
        }
      ]
    },
    {
      "cell_type": "code",
      "source": [
        "#20 Write a Python program to visualize covariance using a heatmap.\n",
        "import seaborn as sns\n",
        "import pandas as pd\n",
        "import numpy as np\n",
        "\n",
        "df = pd.DataFrame({\n",
        "    'X': [1, 2, 3, 4],\n",
        "    'Y': [2, 4, 6, 8]\n",
        "})\n",
        "cov = df.cov()\n",
        "sns.heatmap(cov, annot=True)\n",
        "plt.title(\"Covariance Heatmap\")\n",
        "plt.show()\n"
      ],
      "metadata": {
        "colab": {
          "base_uri": "https://localhost:8080/",
          "height": 452
        },
        "id": "RRVP8cgjJmN5",
        "outputId": "5e4b209d-ce7f-4861-c554-3c8fd063aa2a"
      },
      "execution_count": 29,
      "outputs": [
        {
          "output_type": "display_data",
          "data": {
            "text/plain": [
              "<Figure size 640x480 with 2 Axes>"
            ],
            "image/png": "[encoded data removed]"
          },
          "metadata": {}
        }
      ]
    },
    {
      "cell_type": "code",
      "source": [
        "#21 Use seaborn to create a correlation matrix for a dataset.\n",
        "corr = df.corr()\n",
        "sns.heatmap(corr, annot=True, cmap=\"coolwarm\")\n",
        "plt.title(\"Correlation Matrix\")\n",
        "plt.show()\n"
      ],
      "metadata": {
        "colab": {
          "base_uri": "https://localhost:8080/",
          "height": 452
        },
        "id": "M2Q8NhcsJmK4",
        "outputId": "e8a599d5-41c7-4101-99c7-0ee9ca806c8b"
      },
      "execution_count": 30,
      "outputs": [
        {
          "output_type": "display_data",
          "data": {
            "text/plain": [
              "<Figure size 640x480 with 2 Axes>"
            ],
            "image/png": "[encoded data removed]"
          },
          "metadata": {}
        }
      ]
    },
    {
      "cell_type": "code",
      "source": [
        "#22 Generate a dataset and implement both variance and standard deviation computations.\n",
        "data = np.random.normal(loc=100, scale=15, size=50)\n",
        "print(\"Variance:\", np.var(data))\n",
        "print(\"Standard Deviation:\", np.std(data))\n"
      ],
      "metadata": {
        "colab": {
          "base_uri": "https://localhost:8080/"
        },
        "id": "cvBRv_9YKwiX",
        "outputId": "8bc314a4-7cb1-4628-d6b6-fb80daf73e5b"
      },
      "execution_count": 31,
      "outputs": [
        {
          "output_type": "stream",
          "name": "stdout",
          "text": [
            "Variance: 183.95420477798132\n",
            "Standard Deviation: 13.56297182692574\n"
          ]
        }
      ]
    },
    {
      "cell_type": "code",
      "source": [
        "#23 Visualize skewness and kurtosis using Python libraries like matplotlib or seaborn\n",
        "from scipy.stats import skew, kurtosis\n",
        "import seaborn as sns\n",
        "import numpy as np\n",
        "\n",
        "data = np.random.exponential(size=1000)\n",
        "sns.histplot(data, kde=True)\n",
        "plt.title(\"Distribution with Skewness and Kurtosis\")\n",
        "plt.show()\n",
        "\n",
        "print(\"Skewness:\", skew(data))\n",
        "print(\"Kurtosis:\", kurtosis(data))\n"
      ],
      "metadata": {
        "colab": {
          "base_uri": "https://localhost:8080/",
          "height": 488
        },
        "id": "uK61fZLVKwfh",
        "outputId": "c7403eab-dccb-40e5-da75-c19a08fa5ea0"
      },
      "execution_count": 32,
      "outputs": [
        {
          "output_type": "display_data",
          "data": {
            "text/plain": [
              "<Figure size 640x480 with 1 Axes>"
            ],
            "image/png": "[encoded data removed]"
          },
          "metadata": {}
        },
        {
          "output_type": "stream",
          "name": "stdout",
          "text": [
            "Skewness: 2.481037736160442\n",
            "Kurtosis: 11.27421778868437\n"
          ]
        }
      ]
    },
    {
      "cell_type": "code",
      "source": [
        "#24  Implement the Pearson and Spearman correlation coefficients for a dataset.\n",
        "from scipy.stats import pearsonr, spearmanr\n",
        "\n",
        "x = [10, 20, 30, 40, 50]\n",
        "y = [12, 24, 33, 45, 55]\n",
        "\n",
        "pearson_corr, _ = pearsonr(x, y)\n",
        "spearman_corr, _ = spearmanr(x, y)\n",
        "\n",
        "print(\"Pearson:\", pearson_corr)\n",
        "print(\"Spearman:\", spearman_corr)\n"
      ],
      "metadata": {
        "colab": {
          "base_uri": "https://localhost:8080/"
        },
        "id": "wDEhKIqLKzmQ",
        "outputId": "8f62e3ab-05e2-4b86-9e2c-59d43fd011be"
      },
      "execution_count": 33,
      "outputs": [
        {
          "output_type": "stream",
          "name": "stdout",
          "text": [
            "Pearson: 0.9991712645513415\n",
            "Spearman: 0.9999999999999999\n"
          ]
        }
      ]
    }
  ]
}